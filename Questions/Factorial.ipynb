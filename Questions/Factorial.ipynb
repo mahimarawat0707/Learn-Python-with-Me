{
 "cells": [
  {
   "cell_type": "markdown",
   "id": "34e8e623",
   "metadata": {},
   "source": [
    "### Factorial Solution "
   ]
  },
  {
   "cell_type": "markdown",
   "id": "8ef07de1",
   "metadata": {},
   "source": [
    "***Factorial challenge***\n",
    "\n",
    "The \"factorial\" of a number is that number multiplied by all the\n",
    "positive whole numbers less than it. It is written with an\n",
    "exclamation point, like \"n!\" (read this as \"n factorial\").\n",
    "\n",
    "So, for a given number, n:\n",
    "\n",
    "n != n*(n-1)*(n-2) *...* 3*2*1\n",
    "\n",
    "Or, for more concrete examples:\n",
    "\n",
    "5 != 5*4*3*2*1=120\n",
    "6 != 6*5*4*3*2*1=720\n",
    "\n",
    "etc.\n",
    "\n",
    "The factorial of a number also happens to be the number of ways\n",
    "to arrange a set of items. For example, the possible arrangements\n",
    "of a standard deck of playing cards (containing 52 cards) is 52 !.\n",
    "This is a very, very big number.\n",
    "\n",
    "Mathematicians have decided that in a set of 0 items (an empty\n",
    "set) there is only one way to arrange them, therefore:\n",
    "\n",
    "0 != 1\n",
    "\n",
    "For the purposes of this challenge, factorials are only defined for\n",
    "positive integers (including 0). If an input is not a positive integer\n",
    "factorial\n",
    "\n",
    "that returns the factorial of a\n",
    "\n",
    "or 0, you should return None.\n",
    "\n",
    "**Your task**\n",
    "Write a function called\n",
    "number passed in.\n",
    "\n",
    "**Parameters**\n",
    "\n",
    "num: 0 or a positive integer that your function should find the\n",
    "factorial of. If it's not one of these, you should return None.\n",
    "\n",
    "**Result**\n",
    "\n",
    "The factorial of that number\n",
    "\n",
    "**Constraints**\n",
    "\n",
    ". If an input is not a positive whole number, make sure that\n",
    "your function returns *none*\n",
    "\n",
    "**Example 1**\n",
    "\n",
    "Input: 5\n",
    "Result: 120\n",
    "\n",
    "**Example 2**\n",
    "\n",
    "Input: 6\n",
    "Result: 720\n",
    "\n",
    "**Example 3**\n",
    "\n",
    "Input: spam spam spam\n",
    "Result: None"
   ]
  },
  {
   "cell_type": "code",
   "execution_count": 1,
   "id": "2f30d87d",
   "metadata": {},
   "outputs": [],
   "source": [
    "def factorial (num):\n",
    "  if type(num) != int:\n",
    "    return None\n",
    "  if num < 0:\n",
    "    return None\n",
    "\n",
    "  fact = 1\n",
    "  counter =1\n",
    "  while counter <= num:\n",
    "    fact = fact * counter\n",
    "    counter = counter + 1\n",
    "  return fact"
   ]
  }
 ],
 "metadata": {
  "kernelspec": {
   "display_name": "Python 3",
   "language": "python",
   "name": "python3"
  },
  "language_info": {
   "codemirror_mode": {
    "name": "ipython",
    "version": 3
   },
   "file_extension": ".py",
   "mimetype": "text/x-python",
   "name": "python",
   "nbconvert_exporter": "python",
   "pygments_lexer": "ipython3",
   "version": "3.13.9"
  }
 },
 "nbformat": 4,
 "nbformat_minor": 5
}
