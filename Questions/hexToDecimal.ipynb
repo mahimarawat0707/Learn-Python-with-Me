{
 "cells": [
  {
   "cell_type": "markdown",
   "id": "f985723a",
   "metadata": {},
   "source": [
    "## Convert hexadecimal to decimal"
   ]
  },
  {
   "cell_type": "markdown",
   "id": "7e213b09",
   "metadata": {},
   "source": [
    "Hexadecimal, or \"base 16,\" uses all of the numbers 0-9, plus a few others to signify\n",
    "higher numbers:\n",
    "\n",
    "A = 10\n",
    "B = 11\n",
    "C = 12\n",
    "D = 13\n",
    "E = 14\n",
    "F = 15\n",
    "\n",
    "#### **Practice with hexadecimal**\n",
    "\n",
    "The hexadecimal number 2A represents the decimal number 42. Why?\n",
    "\n",
    "The hexadecimal number 2A contains a 2 in the 16's place, plus an A in the 1's place.\n",
    "\n",
    "Think about the decimal number 42-it contains a 4 in the 10's place and a 2 in the 1's\n",
    "place.\n",
    "\n",
    "Just like decimal has a \"10's place,\" hexadecimal has a corresponding \"16's place.\"\n",
    "\n",
    "So, we can convert the hexadecimal 2A into decimal using:\n",
    "\n",
    "(2*16) + (A*1)=(2*16)+(10*1)=42\n",
    "\n",
    "Similarly, the hexadecimal number CAB contains a C (or 12) in the 256's place, an A (or 10) in the 16's place, and a B (or 11) in the 1's place.\n",
    "\n",
    "Just like decimal has a \"100's place\" (which is 10 * 10), hexadecimal has a \"256's place\"\n",
    "(which is 16 * 16).\n",
    "\n",
    "So we can convert the hexadecimal CAB into decimal using:\n",
    "\n",
    "(C*256)+(A*16)+(B*1)=(12*256)+(10*16)+(11*1)=3243\n",
    "\n",
    "#### Your task\n",
    "Write a function to convert a hexadecimal string (up to three characters long) into a\n",
    "decimal integer. Do not use the Python function int (hexNum, 16) to do this. Write your\n",
    "own function!\n",
    "\n",
    "#### Parameters\n",
    "`hexNum:` Some value that needs to be converted into a decimal number, if possible. Up to three characters long.\n",
    "\n",
    "#### Example 1\n",
    "\n",
    "Input: `ABC`\n",
    "Result: `2748`\n",
    "\n",
    "#### Result\n",
    "`int:` The decimal value of the hexadecimal input, or None if it is not a valid hexadecimal input\n",
    "\n",
    "#### Example 1\n",
    "\n",
    "Input: `'Not a number'`\n",
    "Result: `'None'`\n",
    "\n",
    "#### Example 2\n",
    "\n",
    "Input: `Not a number`\n",
    "Result: `None`\n",
    "\n"
   ]
  },
  {
   "cell_type": "code",
   "execution_count": 1,
   "id": "47b742f5",
   "metadata": {},
   "outputs": [],
   "source": [
    "hexNumbers = {\n",
    "'0': 0, '1': 1, '2': 2, '3': 3, '4': 4, '5': 5, '6': 6, '7': 7, '8': 8, '9': 9,\n",
    "'A': 10, 'B': 11, 'C': 12, 'D': 13, 'E': 14, 'F': 15\n",
    "\n",
    "}\n",
    "\n",
    "def hexToDec(hexNum):\n",
    "  for char in hexNum:\n",
    "    if char not in hexNumbers:\n",
    "      return None\n",
    "\n",
    "  if len(hexNum) == 3:\n",
    "    return hexNumbers [hexNum[0]] * 256 + hexNumbers [hexNum[1]] * 16 + hex\n",
    "\n",
    "  if len(hexNum) == 2:\n",
    "    return hexNumbers [hexNum[0]] * 16 + hexNumbers [hexNum[1]]\n",
    "\n",
    "  if len(hexNum) == 1:\n",
    "    return hexNumbers [hexNum[0]]"
   ]
  }
 ],
 "metadata": {
  "kernelspec": {
   "display_name": "Python 3",
   "language": "python",
   "name": "python3"
  },
  "language_info": {
   "codemirror_mode": {
    "name": "ipython",
    "version": 3
   },
   "file_extension": ".py",
   "mimetype": "text/x-python",
   "name": "python",
   "nbconvert_exporter": "python",
   "pygments_lexer": "ipython3",
   "version": "3.13.9"
  }
 },
 "nbformat": 4,
 "nbformat_minor": 5
}
