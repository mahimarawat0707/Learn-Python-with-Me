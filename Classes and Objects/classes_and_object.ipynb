{
 "cells": [
  {
   "cell_type": "markdown",
   "id": "a55671a6",
   "metadata": {},
   "source": [
    "### Classes"
   ]
  },
  {
   "cell_type": "code",
   "execution_count": 8,
   "id": "c277a6b4",
   "metadata": {},
   "outputs": [],
   "source": [
    "class Dog:\n",
    "  def __init__(self, name):\n",
    "    self.name = name\n",
    "    self.legs = 4\n",
    "\n",
    "  def speak(self):\n",
    "    print(self.name + \" Says: Bark \")"
   ]
  },
  {
   "cell_type": "code",
   "execution_count": 9,
   "id": "1d7eace0",
   "metadata": {},
   "outputs": [],
   "source": [
    "my_dog = Dog(\"Rover\")\n",
    "another_dog = Dog(\"Fluffy\")"
   ]
  },
  {
   "cell_type": "code",
   "execution_count": 10,
   "id": "2ac46d18",
   "metadata": {},
   "outputs": [
    {
     "name": "stdout",
     "output_type": "stream",
     "text": [
      "Rover Says: Bark \n"
     ]
    }
   ],
   "source": [
    "my_dog.speak()"
   ]
  },
  {
   "cell_type": "code",
   "execution_count": 11,
   "id": "de51382f",
   "metadata": {},
   "outputs": [
    {
     "name": "stdout",
     "output_type": "stream",
     "text": [
      "Fluffy Says: Bark \n"
     ]
    }
   ],
   "source": [
    "another_dog.speak()"
   ]
  }
 ],
 "metadata": {
  "kernelspec": {
   "display_name": "Python 3",
   "language": "python",
   "name": "python3"
  },
  "language_info": {
   "codemirror_mode": {
    "name": "ipython",
    "version": 3
   },
   "file_extension": ".py",
   "mimetype": "text/x-python",
   "name": "python",
   "nbconvert_exporter": "python",
   "pygments_lexer": "ipython3",
   "version": "3.13.9"
  }
 },
 "nbformat": 4,
 "nbformat_minor": 5
}
