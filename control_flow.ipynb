{
 "cells": [
  {
   "cell_type": "markdown",
   "id": "92d08494",
   "metadata": {},
   "source": [
    "# Control Flow"
   ]
  },
  {
   "cell_type": "markdown",
   "id": "469249c0",
   "metadata": {},
   "source": [
    "### If/ Else statements"
   ]
  },
  {
   "cell_type": "code",
   "execution_count": 1,
   "id": "73839503",
   "metadata": {},
   "outputs": [
    {
     "name": "stdout",
     "output_type": "stream",
     "text": [
      "It is true!\n",
      "It will get printed cause it is outside the if else block.\n"
     ]
    }
   ],
   "source": [
    "a = True\n",
    "if a:\n",
    "  print(\"It is true!\")\n",
    "else:\n",
    "  print(\"It is false!\")\n",
    "print(\"It will get printed cause it is outside the if else block.\")"
   ]
  },
  {
   "cell_type": "markdown",
   "id": "6c48a9f0",
   "metadata": {},
   "source": [
    "### For loops"
   ]
  },
  {
   "cell_type": "code",
   "execution_count": 3,
   "id": "ba51af1e",
   "metadata": {},
   "outputs": [
    {
     "name": "stdout",
     "output_type": "stream",
     "text": [
      "1\n",
      "12\n",
      "23\n",
      "34\n",
      "45\n",
      "56\n"
     ]
    }
   ],
   "source": [
    "a = [1,12,23,34,45,56]\n",
    "for items in a:\n",
    "  print(items)"
   ]
  },
  {
   "cell_type": "markdown",
   "id": "ae2b177a",
   "metadata": {},
   "source": [
    "### While loops"
   ]
  },
  {
   "cell_type": "code",
   "execution_count": 6,
   "id": "0cae03e6",
   "metadata": {},
   "outputs": [
    {
     "name": "stdout",
     "output_type": "stream",
     "text": [
      "0\n",
      "1\n",
      "2\n",
      "3\n",
      "4\n"
     ]
    }
   ],
   "source": [
    "a = 0\n",
    "while a < 5:\n",
    "  print (a)\n",
    "  a = a + 1"
   ]
  }
 ],
 "metadata": {
  "kernelspec": {
   "display_name": "Python 3",
   "language": "python",
   "name": "python3"
  },
  "language_info": {
   "codemirror_mode": {
    "name": "ipython",
    "version": 3
   },
   "file_extension": ".py",
   "mimetype": "text/x-python",
   "name": "python",
   "nbconvert_exporter": "python",
   "pygments_lexer": "ipython3",
   "version": "3.13.9"
  }
 },
 "nbformat": 4,
 "nbformat_minor": 5
}
