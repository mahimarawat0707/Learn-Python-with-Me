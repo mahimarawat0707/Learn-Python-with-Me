{
 "cells": [
  {
   "cell_type": "markdown",
   "id": "98c1194d",
   "metadata": {},
   "source": [
    "## Booleans"
   ]
  },
  {
   "cell_type": "markdown",
   "id": "875839f1",
   "metadata": {},
   "source": [
    "#### Casting Booleans"
   ]
  },
  {
   "cell_type": "code",
   "execution_count": 1,
   "id": "943fa604",
   "metadata": {},
   "outputs": [
    {
     "data": {
      "text/plain": [
       "True"
      ]
     },
     "execution_count": 1,
     "metadata": {},
     "output_type": "execute_result"
    }
   ],
   "source": [
    "bool(1)"
   ]
  },
  {
   "cell_type": "code",
   "execution_count": 2,
   "id": "f99fcb7c",
   "metadata": {},
   "outputs": [
    {
     "data": {
      "text/plain": [
       "False"
      ]
     },
     "execution_count": 2,
     "metadata": {},
     "output_type": "execute_result"
    }
   ],
   "source": [
    "bool(0)"
   ]
  },
  {
   "cell_type": "code",
   "execution_count": 3,
   "id": "685ecaf5",
   "metadata": {},
   "outputs": [
    {
     "data": {
      "text/plain": [
       "True"
      ]
     },
     "execution_count": 3,
     "metadata": {},
     "output_type": "execute_result"
    }
   ],
   "source": [
    "bool(-1)"
   ]
  },
  {
   "cell_type": "code",
   "execution_count": 5,
   "id": "9e027e08",
   "metadata": {},
   "outputs": [
    {
     "data": {
      "text/plain": [
       "False"
      ]
     },
     "execution_count": 5,
     "metadata": {},
     "output_type": "execute_result"
    }
   ],
   "source": [
    "bool(0.0)"
   ]
  },
  {
   "cell_type": "code",
   "execution_count": 6,
   "id": "292ed47a",
   "metadata": {},
   "outputs": [
    {
     "data": {
      "text/plain": [
       "False"
      ]
     },
     "execution_count": 6,
     "metadata": {},
     "output_type": "execute_result"
    }
   ],
   "source": [
    "bool(0j)"
   ]
  },
  {
   "cell_type": "code",
   "execution_count": 7,
   "id": "810268a7",
   "metadata": {},
   "outputs": [
    {
     "data": {
      "text/plain": [
       "True"
      ]
     },
     "execution_count": 7,
     "metadata": {},
     "output_type": "execute_result"
    }
   ],
   "source": [
    "bool(\"True\")"
   ]
  },
  {
   "cell_type": "code",
   "execution_count": 8,
   "id": "60b005a4",
   "metadata": {},
   "outputs": [
    {
     "data": {
      "text/plain": [
       "True"
      ]
     },
     "execution_count": 8,
     "metadata": {},
     "output_type": "execute_result"
    }
   ],
   "source": [
    "bool (\"False\")"
   ]
  },
  {
   "cell_type": "markdown",
   "id": "a2628f1b",
   "metadata": {},
   "source": [
    "This is all because anything other than an empty string is actually going to be true. "
   ]
  },
  {
   "cell_type": "code",
   "execution_count": 10,
   "id": "6623bee5",
   "metadata": {},
   "outputs": [
    {
     "data": {
      "text/plain": [
       "False"
      ]
     },
     "execution_count": 10,
     "metadata": {},
     "output_type": "execute_result"
    }
   ],
   "source": [
    "bool(\"\")"
   ]
  },
  {
   "cell_type": "code",
   "execution_count": 11,
   "id": "34fd496e",
   "metadata": {},
   "outputs": [
    {
     "name": "stdout",
     "output_type": "stream",
     "text": [
      "My_list has some values in it!\n"
     ]
    }
   ],
   "source": [
    "my_list = [1,2]\n",
    "if bool (my_list):\n",
    "  print(\"My_list has some values in it!\")"
   ]
  },
  {
   "cell_type": "code",
   "execution_count": 14,
   "id": "24445891",
   "metadata": {},
   "outputs": [],
   "source": [
    "a = 5\n",
    "b = 5\n",
    "if a - b:\n",
    "  print(\"a and b are not equal\")"
   ]
  },
  {
   "cell_type": "code",
   "execution_count": 15,
   "id": "22d60e7e",
   "metadata": {},
   "outputs": [
    {
     "data": {
      "text/plain": [
       "True"
      ]
     },
     "execution_count": 15,
     "metadata": {},
     "output_type": "execute_result"
    }
   ],
   "source": [
    "a == b"
   ]
  },
  {
   "cell_type": "markdown",
   "id": "fb5e89d2",
   "metadata": {},
   "source": [
    "#### Boolean Logic"
   ]
  },
  {
   "cell_type": "code",
   "execution_count": 16,
   "id": "3c204691",
   "metadata": {},
   "outputs": [
    {
     "name": "stdout",
     "output_type": "stream",
     "text": [
      "Stay Inside\n"
     ]
    }
   ],
   "source": [
    "weatherIsNice = False\n",
    "haveUmbrealla = True\n",
    "\n",
    "if haveUmbrealla or weatherIsNice:\n",
    "  print(\"Stay Inside\")\n",
    "\n",
    "else:\n",
    "  print(\"Go for a walk\")"
   ]
  },
  {
   "cell_type": "code",
   "execution_count": 17,
   "id": "a7377175",
   "metadata": {},
   "outputs": [
    {
     "name": "stdout",
     "output_type": "stream",
     "text": [
      "Go for a walk\n"
     ]
    }
   ],
   "source": [
    "weatherIsNice = False\n",
    "haveUmbrealla = True\n",
    "\n",
    "if not (haveUmbrealla or weatherIsNice):\n",
    "  print(\"Stay Inside\")\n",
    "\n",
    "else:\n",
    "  print(\"Go for a walk\")"
   ]
  },
  {
   "cell_type": "code",
   "execution_count": 18,
   "id": "d892670b",
   "metadata": {},
   "outputs": [
    {
     "name": "stdout",
     "output_type": "stream",
     "text": [
      "Go for a walk\n"
     ]
    }
   ],
   "source": [
    "weatherIsNice = False\n",
    "haveUmbrealla = True\n",
    "\n",
    "if haveUmbrealla or weatherIsNice:\n",
    "  print(\"Go for a walk\")\n",
    "else:\n",
    "  print(\"Stay Inside\")\n"
   ]
  }
 ],
 "metadata": {
  "kernelspec": {
   "display_name": "Python 3",
   "language": "python",
   "name": "python3"
  },
  "language_info": {
   "codemirror_mode": {
    "name": "ipython",
    "version": 3
   },
   "file_extension": ".py",
   "mimetype": "text/x-python",
   "name": "python",
   "nbconvert_exporter": "python",
   "pygments_lexer": "ipython3",
   "version": "3.13.9"
  }
 },
 "nbformat": 4,
 "nbformat_minor": 5
}
